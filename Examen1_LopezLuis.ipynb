{
 "cells": [
  {
   "cell_type": "markdown",
   "metadata": {},
   "source": [
    "# Examen Módulo 1 - Optimización.\n",
    "\n",
    "**Lea cuidadosamente las siguientes indicaciones antes de comenzar el examen:**\n",
    "- Para resolver el examen edite este mismo archivo y renómbrelo de la siguiente manera: *Examen1_ApellidoNombre*, donde *ApellidoNombre* corresponde a su apellido paterno con la inicial en mayúscula, seguido de su primer nombre con la inicial en mayúscula **sin acentos**. Por ejemplo, en mi caso el nombre del archivo sería *Examen1_ArellanoCarlos*.\n",
    "- Resuelva los puntos en el espacio provisto. Si requiere agregar más celdas para código o escritura, hágalo (`Esc`+`B`) o (`Esc`+`A`).\n",
    "- Recuerde que también se está evaluando su capacidad de interpretar los resultados. Escriba sus interpretaciones/conclusiones en celdas utilizando *Markdown*.\n",
    "- El formato de presentación de todo el examen en general debe ser adecuado. Use tamaños de letra, colores, etiquetas, etcétera.\n",
    "- No se resuelven dudas de ningún tipo por los profesores de la asignatura. Por favor, absténgase de preguntar.\n",
    "- Revise bien el tipo de examen. Sólo se le calificará si realiza el tipo de examen asignado."
   ]
  },
  {
   "cell_type": "markdown",
   "metadata": {},
   "source": [
    "---\n",
    "# Primer punto. Optimización de funciones con `SymPy`\n",
    "\n",
    "Considere una cruz simétrica inscrita en un círculo de radio $r$"
   ]
  },
  {
   "cell_type": "code",
   "execution_count": 2,
   "metadata": {},
   "outputs": [
    {
     "data": {
      "image/png": "[encoded data removed]",
      "text/plain": [
       "<Figure size 432x288 with 1 Axes>"
      ]
     },
     "metadata": {
      "needs_background": "light"
     },
     "output_type": "display_data"
    }
   ],
   "source": [
    "import numpy as np\n",
    "import matplotlib.pyplot as plt\n",
    "import matplotlib.patches as patches\n",
    "%matplotlib inline\n",
    "\n",
    "ct = np.cos(0.3)\n",
    "st = np.sin(0.3)\n",
    "x = np.linspace(-ct,ct,1000)\n",
    "y = np.zeros(np.shape(x))\n",
    "y[1:500] = [st if i < -st else ct for i in x[1:500]]\n",
    "y[500:999] = [st if i > st else ct for i in x[500:999]]\n",
    "\n",
    "p = patches.Circle((0, 0), 1,fc='w',lw=2,color='k')\n",
    "ax = plt.gca()\n",
    "ax.add_artist(p)\n",
    "plt.text(0.1,0.6,'$r$')\n",
    "\n",
    "plt.plot(x,y,'r')\n",
    "plt.plot(x,-y,'r')\n",
    "\n",
    "plt.plot([-st,0,st],[ct,0,ct],'k--')\n",
    "plt.text(-0.04,0.4,r'$\\theta$')\n",
    "a = patches.Arc((0, 0),0.7,0.7,90,theta1=-0.3*180/np.pi,theta2=0.3*180/np.pi,\n",
    "                fc='w',color='k',ls='--')\n",
    "ax.add_artist(a)\n",
    "\n",
    "plt.axis([-1,1,-1,1])\n",
    "plt.axis('equal')\n",
    "plt.axis('off')\n",
    "#plt.tight_layout()\n",
    "plt.show()"
   ]
  },
  {
   "cell_type": "markdown",
   "metadata": {},
   "source": [
    "1. Escribir el área $A$ de la cruz como una función de $\\theta$. Realice este punto usando fórmulas de $\\LaTeX$, en celdas *Markdown*.\n",
    "2. Determinar el valor de $\\theta$ que maximiza el área para un radio $r=2$.\n",
    "3. ¿Cuál es el área máxima de la cruz?"
   ]
  },
  {
   "cell_type": "markdown",
   "metadata": {},
   "source": [
    "**Pista:** Divida la cruz en cuatro partes iguales determinadas por los ejes $x$ y $y$. El resto es trigonometría básica."
   ]
  },
  {
   "cell_type": "markdown",
   "metadata": {},
   "source": [
    "# Respuesta ->"
   ]
  },
  {
   "cell_type": "markdown",
   "metadata": {},
   "source": [
    "#### Lo que primero se realizó para encontrar el área total de la cruza mostrada, fue separar los 4 cuadrados y determinar las áreas de cada uno de ellos.\n",
    "Sabemos que nuestra área es representada de esta manera \n",
    "$ A_C(x,y) = 16xy $"
   ]
  },
  {
   "cell_type": "markdown",
   "metadata": {},
   "source": [
    "Podemos definir también que existe una restricción que es el círculo mostrado en la gráfica. Entonces representamos esta misma restricción de la siguiente manera: \n",
    "Restricción : $ f(x) :x^2 + y^2 - 4 $"
   ]
  },
  {
   "cell_type": "code",
   "execution_count": 22,
   "metadata": {},
   "outputs": [
    {
     "data": {
      "text/latex": [
       "$\\displaystyle x^{2} + y^{2} - 4$"
      ],
      "text/plain": [
       "x**2 + y**2 - 4"
      ]
     },
     "execution_count": 22,
     "metadata": {},
     "output_type": "execute_result"
    }
   ],
   "source": [
    "import numpy as np\n",
    "import sympy as sp\n",
    "import matplotlib.pyplot as plt\n",
    "%matplotlib inline \n",
    "\n",
    "x = sp.var(\"x\")\n",
    "y = sp.var(\"y\")\n",
    "\n",
    "def cruz_res(x, y, r) :\n",
    "    return x**2 + y**2 - r**2 \n",
    "\n",
    "cruz_res(x, y, 2)\n"
   ]
  },
  {
   "cell_type": "code",
   "execution_count": 21,
   "metadata": {},
   "outputs": [
    {
     "data": {
      "text/latex": [
       "$\\displaystyle \\sqrt{4 - y^{2}}$"
      ],
      "text/plain": [
       "sqrt(4 - y**2)"
      ]
     },
     "execution_count": 21,
     "metadata": {},
     "output_type": "execute_result"
    }
   ],
   "source": [
    "\n",
    "def area_cuadrado(x, y):\n",
    "    return (64*x*y)\n",
    "area_cuadrado(x, y)\n",
    "\n",
    "sol_x = sp.solve(cruz_res(x, y, 2), x)[1]\n",
    "sol_x # Escogemos nuestro valor positivo, en este caso es el de la derecha \n"
   ]
  },
  {
   "cell_type": "code",
   "execution_count": null,
   "metadata": {},
   "outputs": [],
   "source": [
    "# Maximizamos nuestra función\n"
   ]
  },
  {
   "cell_type": "code",
   "execution_count": null,
   "metadata": {},
   "outputs": [],
   "source": []
  },
  {
   "cell_type": "markdown",
   "metadata": {},
   "source": [
    "---\n",
    "# Segundo punto. Programación lineal\n",
    "\n",
    "Un empresario pretende fabricar dos tipos de congeladores denominados A y B. Cada uno de ellos debe pasar por tres operaciones antes de su comercialización: \n",
    "<table>\n",
    "  <tr>\n",
    "      <th></th>\n",
    "      <th>Ensamblaje</th>\n",
    "      <th>Pintura</th>\n",
    "      <th>Calidad</th>\n",
    "  </tr>\n",
    "  <tr>\n",
    "      <th>Congeladores tipo A</th>\n",
    "      <td>2.5 horas</td>\n",
    "      <td>3 kg</td>\n",
    "      <td>14 horas</td>\n",
    "  </tr>\n",
    "  <tr style=\"border-bottom: 1px solid #000;\">\n",
    "      <th>Congeladores tipo B</th>\n",
    "      <td>3 horas</td>\n",
    "      <td>6 kg</td>\n",
    "      <td>10 horas</td>\n",
    "  </tr>\n",
    "  <tr>\n",
    "      <td>Disponibilidad</td>\n",
    "      <td>4500 horas</td>\n",
    "      <td>8400 kg</td>\n",
    "      <td>20000 horas</td>\n",
    "  </tr>\n",
    "</table>\n",
    "\n",
    "El empresario dispone semanalmente de:\n",
    "\n",
    "* Máximo 4500 horas para ensamblaje\n",
    "* Máximo 8400 Kg. de esmalte\n",
    "* 20000 horas máximo, para control de calidad\n",
    "\n",
    "Los costos totales de fabricación por unidad son, respectivamente, 30 y 28, y los precios de venta 52 y 48, todos ellos en miles de pesos. Además, los estudios de mercado muestran que la demanda semanal de congeladores no supera las 1700 unidades y que, en particular, la de tipo A es de, al menos 600 unidades.\n",
    "\n",
    "<table>\n",
    "  <tr>\n",
    "      <th></th>\n",
    "      <th>Costo</th>\n",
    "      <th>Precio de venta</th>\n",
    "  </tr>\n",
    "  <tr>\n",
    "      <th>Congeladores tipo A</th>\n",
    "      <td>30</td>\n",
    "      <td>52</td>\n",
    "  </tr>\n",
    "  <tr>\n",
    "      <th>Congeladores tipo B</th>\n",
    "      <td>28</td>\n",
    "      <td>48</td>\n",
    "  </tr>\n",
    "</table>\n",
    "\n",
    "Se desea conocer las unidades necesarias para **maximizar** la utilidad.\n",
    "\n",
    "1. Escriba la función a **minimizar** junto con las restricciones, explicando detalladamente cada paso (usando fórmulas en $\\LaTeX$, en celdas Markdown). Además escriba el problema en la forma \\begin{equation}\n",
    "\\begin{array}{ll}\n",
    "\\min_{\\boldsymbol{x}} & \\boldsymbol{c}^T\\boldsymbol{x} \\\\\n",
    "\\text{s. a. }        & \\boldsymbol{A}_{eq}\\boldsymbol{x}=\\boldsymbol{b}_{eq} \\\\\n",
    "                     & \\boldsymbol{A}\\boldsymbol{x}\\leq\\boldsymbol{b},\n",
    "\\end{array}\\qquad\n",
    "\\end{equation}\n",
    "2. Resuelva el problema utilizando la función `linprog`. ¿Cuántos congeladores de cada tipo se deben producir (valores enteros)?, ¿Cuál es la ganancia?"
   ]
  },
  {
   "cell_type": "code",
   "execution_count": null,
   "metadata": {},
   "outputs": [],
   "source": []
  },
  {
   "cell_type": "code",
   "execution_count": null,
   "metadata": {},
   "outputs": [],
   "source": []
  },
  {
   "cell_type": "markdown",
   "metadata": {},
   "source": [
    "---\n",
    "# Tercer punto. Ajuste de curvas\n",
    "Los siguientes datos extraidos de la Federal Reserve Economic Data (FRED), son los salarios por empleado equivalente a tiempo completo en industrias privadas de EE.UU.: fondos, fideicomisos, etc. **entre los años 1998 y 2018**. \n",
    "\n",
    "https://www.quandl.com/data/FRED/N4461C0A052NBEA-Wage-and-salary-accruals-per-full-time-equivalent-employee-Domestic-private-industries-Funds-trusts-and-other-financial-vehicles "
   ]
  },
  {
   "cell_type": "code",
   "execution_count": 24,
   "metadata": {},
   "outputs": [],
   "source": [
    "import numpy as np\n",
    "y=np.array([ 55887.,  59365.,  65435.,  68065.,  71918.,  77257.,  92036.,\n",
    "        92645.,  99857.,  74935.,  78597.,  83134.,  87372., 104196.,\n",
    "       112597., 133821., 129107., 138259., 139083., 143762., 147334.])\n",
    "x=np.arange(8,29)"
   ]
  },
  {
   "cell_type": "code",
   "execution_count": 25,
   "metadata": {
    "scrolled": true
   },
   "outputs": [
    {
     "data": {
      "image/png": "[encoded data removed]",
      "text/plain": [
       "<Figure size 432x288 with 1 Axes>"
      ]
     },
     "metadata": {
      "needs_background": "light"
     },
     "output_type": "display_data"
    }
   ],
   "source": [
    "plt.plot(x+1980,y)\n",
    "plt.grid()"
   ]
  },
  {
   "cell_type": "markdown",
   "metadata": {},
   "source": [
    "1. Ajuste los salarios con polinomios de grado 1 a 3 y muestre los errores de forma gráfica, ¿Qué polinómio se ajusta mejor?\n",
    "2. Muestre en un gráfico los datos y el polinómio que mejor se ajuste\n",
    "3. Use el modelo para averiguar el salario a mediados del año 2005 y para predecirlo en el año 2025. ¿Qué diferencias encuentra en cuanto a la interpolación (esto es, obtener un punto medio) y la extrapolación  (es decir, obtener un dato fuera del rango conocido)?"
   ]
  },
  {
   "cell_type": "markdown",
   "metadata": {},
   "source": [
    "## Resultado \n",
    "\n",
    "Podemos representar de 3 maneras distintas los salarios. Nuestro primr rsultado o polinomio "
   ]
  },
  {
   "cell_type": "markdown",
   "metadata": {},
   "source": [
    "### Primer polinomio"
   ]
  },
  {
   "cell_type": "code",
   "execution_count": 34,
   "metadata": {},
   "outputs": [
    {
     "data": {
      "text/plain": [
       "      fun: 2247933172.610581\n",
       " hess_inv: array([[ 0.12581014, -0.00635802],\n",
       "       [-0.00635802,  0.00038743]])\n",
       "      jac: array([ 0., 32.])\n",
       "  message: 'Desired error not necessarily achieved due to precision loss.'\n",
       "     nfev: 119\n",
       "      nit: 6\n",
       "     njev: 36\n",
       "   status: 2\n",
       "  success: False\n",
       "        x: array([16475.47847756,  4520.31470192])"
      ]
     },
     "execution_count": 34,
     "metadata": {},
     "output_type": "execute_result"
    }
   ],
   "source": [
    "import scipy.optimize as opt\n",
    "data = 21\n",
    "def funcion_prin(beta, X, y):\n",
    "    m, n = X.shape\n",
    "    beta = np.reshape(beta, [n, -1])\n",
    "    pred = X @ beta \n",
    "    funcion_prin = (y - pred).T @ (y- pred)\n",
    "    return funcion_prin[0][0]\n",
    "\n",
    "ones = np.ones((data, 1))\n",
    "x1 = np.reshape(x, [data, -1])\n",
    "X = np.hstack((ones, x1))\n",
    "y = np.reshape(y,[data, -1])\n",
    "beta_1 = np.random.rand(2)\n",
    "funcion_prin(beta_1, X, y)\n",
    "solu = opt.minimize(funcion_prin, beta_1, args=(X, y))\n",
    "solu\n"
   ]
  },
  {
   "cell_type": "markdown",
   "metadata": {},
   "source": [
    "### Segundo polinomio "
   ]
  },
  {
   "cell_type": "code",
   "execution_count": 35,
   "metadata": {},
   "outputs": [
    {
     "data": {
      "text/plain": [
       "      fun: 1818616347.0547805\n",
       " hess_inv: array([[ 2.70509505e+00, -3.18970126e-01,  8.48646476e-03],\n",
       "       [-3.18970126e-01,  3.88354744e-02, -1.05426691e-03],\n",
       "       [ 8.48646476e-03, -1.05426691e-03,  2.91023755e-05]])\n",
       "      jac: array([0., 0., 0.])\n",
       "  message: 'Optimization terminated successfully.'\n",
       "     nfev: 60\n",
       "      nit: 9\n",
       "     njev: 15\n",
       "   status: 0\n",
       "  success: True\n",
       "        x: array([56225.02178849,  -459.96130739,   138.34190442])"
      ]
     },
     "execution_count": 35,
     "metadata": {},
     "output_type": "execute_result"
    }
   ],
   "source": [
    "import scipy.optimize as opt\n",
    "data = 21\n",
    "def funcion_prin(beta, X, y):\n",
    "    m, n = X.shape\n",
    "    beta = np.reshape(beta, [n, -1])\n",
    "    pred = X @ beta \n",
    "    funcion_prin = (y - pred).T @ (y- pred)\n",
    "    return funcion_prin[0][0]\n",
    "\n",
    "ones = np.ones((data, 1))\n",
    "x1 = np.reshape(x, [data, -1])\n",
    "x2 = np.reshape(x**2, [data, -1])\n",
    "X = np.hstack((ones, x1, x2))\n",
    "y = np.reshape(y, [data, -1])\n",
    "\n",
    "beta_2 = np.random.rand(3)\n",
    "funcion_prin(beta_2, X, y)\n",
    "solu2 = opt.minimize(funcion_prin, beta_2, args=(X,y))\n",
    "solu2"
   ]
  },
  {
   "cell_type": "markdown",
   "metadata": {},
   "source": [
    "### Tercer polinomio"
   ]
  },
  {
   "cell_type": "code",
   "execution_count": 36,
   "metadata": {},
   "outputs": [
    {
     "data": {
      "text/plain": [
       "      fun: 1746809951.9491992\n",
       " hess_inv: array([[ 4.61608871e-06, -1.71883461e-10, -4.81188561e-06,\n",
       "         1.95975882e-07],\n",
       "       [-1.71883461e-10,  1.89515958e-10, -1.80500109e-11,\n",
       "         4.17513403e-13],\n",
       "       [-4.81188561e-06, -1.80500109e-11,  5.01654475e-06,\n",
       "        -2.04641158e-07],\n",
       "       [ 1.95975882e-07,  4.17513403e-13, -2.04641158e-07,\n",
       "         8.66485999e-09]])\n",
       "      jac: array([     0.,   -112.,  -1056., -26304.])\n",
       "  message: 'Desired error not necessarily achieved due to precision loss.'\n",
       "     nfev: 165\n",
       "      nit: 11\n",
       "     njev: 33\n",
       "   status: 2\n",
       "  success: False\n",
       "        x: array([6433.16318118, 9248.42402075, -440.17436372,   10.71328743])"
      ]
     },
     "execution_count": 36,
     "metadata": {},
     "output_type": "execute_result"
    }
   ],
   "source": [
    "data = 21\n",
    "def funcion_prin(beta, X, y):\n",
    "    m, n = X.shape\n",
    "    beta = np.reshape(beta, [n, -1])\n",
    "    pred = X @ beta \n",
    "    funcion_prin = (y - pred).T @ (y- pred)\n",
    "    return funcion_prin[0][0]\n",
    "\n",
    "ones = np.ones((data, 1))\n",
    "x1 = np.reshape(x, [data, -1])\n",
    "x2 = np.reshape(x**2, [data, -1])\n",
    "x3 = np.reshape(x**3, [data, -1])\n",
    "X = np.hstack((ones, x1, x2, x3))\n",
    "y = np.reshape(y, [data, -1])\n",
    "\n",
    "beta_3 = np.random.rand(4)\n",
    "funcion_prin(beta_3, X, y)\n",
    "solu3 = opt.minimize(funcion_prin, beta_3, args=(X,y))\n",
    "solu3"
   ]
  },
  {
   "cell_type": "markdown",
   "metadata": {},
   "source": [
    "### Graficamos nuestros polinomios para ver las aproximaciones "
   ]
  },
  {
   "cell_type": "code",
   "execution_count": 45,
   "metadata": {},
   "outputs": [
    {
     "ename": "ValueError",
     "evalue": "matmul: Input operand 1 has a mismatch in its core dimension 0, with gufunc signature (n?,k),(k,m?)->(n?,m?) (size 2 is different from 1)",
     "output_type": "error",
     "traceback": [
      "\u001b[0;31m---------------------------------------------------------------------------\u001b[0m",
      "\u001b[0;31mValueError\u001b[0m                                Traceback (most recent call last)",
      "Input \u001b[0;32mIn [45]\u001b[0m, in \u001b[0;36m<cell line: 5>\u001b[0;34m()\u001b[0m\n\u001b[1;32m      2\u001b[0m plt\u001b[38;5;241m.\u001b[39mgrid()\n\u001b[1;32m      3\u001b[0m plt\u001b[38;5;241m.\u001b[39mxlim(\u001b[38;5;241m1980\u001b[39m, \u001b[38;5;241m2018\u001b[39m)\n\u001b[0;32m----> 5\u001b[0m y_poli1 \u001b[38;5;241m=\u001b[39m \u001b[43mx1\u001b[49m\u001b[43m \u001b[49m\u001b[38;5;241;43m@\u001b[39;49m\u001b[43m \u001b[49m\u001b[43msolu\u001b[49m\u001b[38;5;241;43m.\u001b[39;49m\u001b[43mx\u001b[49m\n\u001b[1;32m      6\u001b[0m y_poli2 \u001b[38;5;241m=\u001b[39m x2 \u001b[38;5;241m@\u001b[39m solu1\u001b[38;5;241m.\u001b[39mx\n\u001b[1;32m      7\u001b[0m y_poli3 \u001b[38;5;241m=\u001b[39m x3 \u001b[38;5;241m@\u001b[39m solu2\u001b[38;5;241m.\u001b[39mx\n",
      "\u001b[0;31mValueError\u001b[0m: matmul: Input operand 1 has a mismatch in its core dimension 0, with gufunc signature (n?,k),(k,m?)->(n?,m?) (size 2 is different from 1)"
     ]
    },
    {
     "data": {
      "image/png": "[encoded data removed]",
      "text/plain": [
       "<Figure size 432x288 with 1 Axes>"
      ]
     },
     "metadata": {
      "needs_background": "light"
     },
     "output_type": "display_data"
    }
   ],
   "source": [
    "plt.plot(x+1980,y)\n",
    "plt.grid()\n",
    "plt.xlim(1980, 2018)\n",
    "\n",
    "y_poli1 = x1 @ solu.x\n",
    "y_poli2 = x2 @ solu1.x\n",
    "y_poli3 = x3 @ solu2.x\n",
    "plt.plot(x, y_poli1, \"b\")\n",
    "plt.plot(x, y_poli2, \"r\")\n",
    "plt.plot(x, y_poli1, \"g\")\n"
   ]
  },
  {
   "cell_type": "code",
   "execution_count": 39,
   "metadata": {},
   "outputs": [
    {
     "data": {
      "text/plain": [
       "array([[ 8],\n",
       "       [ 9],\n",
       "       [10],\n",
       "       [11],\n",
       "       [12],\n",
       "       [13],\n",
       "       [14],\n",
       "       [15],\n",
       "       [16],\n",
       "       [17],\n",
       "       [18],\n",
       "       [19],\n",
       "       [20],\n",
       "       [21],\n",
       "       [22],\n",
       "       [23],\n",
       "       [24],\n",
       "       [25],\n",
       "       [26],\n",
       "       [27],\n",
       "       [28]])"
      ]
     },
     "execution_count": 39,
     "metadata": {},
     "output_type": "execute_result"
    }
   ],
   "source": [
    "x1"
   ]
  },
  {
   "cell_type": "code",
   "execution_count": null,
   "metadata": {},
   "outputs": [],
   "source": []
  }
 ],
 "metadata": {
  "kernelspec": {
   "display_name": "Python 3 (ipykernel)",
   "language": "python",
   "name": "python3"
  },
  "language_info": {
   "codemirror_mode": {
    "name": "ipython",
    "version": 3
   },
   "file_extension": ".py",
   "mimetype": "text/x-python",
   "name": "python",
   "nbconvert_exporter": "python",
   "pygments_lexer": "ipython3",
   "version": "3.9.12"
  }
 },
 "nbformat": 4,
 "nbformat_minor": 4
}
